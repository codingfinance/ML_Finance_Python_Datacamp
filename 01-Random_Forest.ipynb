{
  "nbformat": 4,
  "nbformat_minor": 0,
  "metadata": {
    "colab": {
      "name": "Random_Forest.ipynb",
      "provenance": []
    },
    "kernelspec": {
      "name": "python3",
      "display_name": "Python 3"
    }
  },
  "cells": [
    {
      "cell_type": "markdown",
      "metadata": {
        "id": "0B3txm9k6Abz",
        "colab_type": "text"
      },
      "source": [
        "### Machine Learning for Finance with Python\n",
        "\n",
        "First we will import the packages."
      ]
    },
    {
      "cell_type": "code",
      "metadata": {
        "id": "SggzV08_00pM",
        "colab_type": "code",
        "colab": {}
      },
      "source": [
        "import talib\n",
        "import pandas as pd\n",
        "import numpy as np\n",
        "import matplotlib.pyplot as plt\n",
        "import seaborn as sns\n",
        "sns.set_style(\"whitegrid\")"
      ],
      "execution_count": 0,
      "outputs": []
    },
    {
      "cell_type": "markdown",
      "metadata": {
        "id": "HS1Ru77C574_",
        "colab_type": "text"
      },
      "source": [
        "Next we will load the data."
      ]
    },
    {
      "cell_type": "code",
      "metadata": {
        "id": "qaC8HB5k6Lba",
        "colab_type": "code",
        "colab": {}
      },
      "source": [
        "spy_df = pd.read_csv('https://assets.datacamp.com/production/repositories/\\\n",
        "2168/datasets/0e72705a29abc4ad16fd29acd0304570ea27111e/SPY.csv',\n",
        "parse_dates=['Date'],index_col='Date')"
      ],
      "execution_count": 0,
      "outputs": []
    },
    {
      "cell_type": "code",
      "metadata": {
        "id": "O2q9sQz26TEp",
        "colab_type": "code",
        "colab": {
          "base_uri": "https://localhost:8080/",
          "height": 238
        },
        "outputId": "22b64dfb-f022-4f05-f4bf-188a2496ab01"
      },
      "source": [
        "spy_df.head()"
      ],
      "execution_count": 3,
      "outputs": [
        {
          "output_type": "execute_result",
          "data": {
            "text/html": [
              "<div>\n",
              "<style scoped>\n",
              "    .dataframe tbody tr th:only-of-type {\n",
              "        vertical-align: middle;\n",
              "    }\n",
              "\n",
              "    .dataframe tbody tr th {\n",
              "        vertical-align: top;\n",
              "    }\n",
              "\n",
              "    .dataframe thead th {\n",
              "        text-align: right;\n",
              "    }\n",
              "</style>\n",
              "<table border=\"1\" class=\"dataframe\">\n",
              "  <thead>\n",
              "    <tr style=\"text-align: right;\">\n",
              "      <th></th>\n",
              "      <th>Adj_Close</th>\n",
              "      <th>Adj_Volume</th>\n",
              "    </tr>\n",
              "    <tr>\n",
              "      <th>Date</th>\n",
              "      <th></th>\n",
              "      <th></th>\n",
              "    </tr>\n",
              "  </thead>\n",
              "  <tbody>\n",
              "    <tr>\n",
              "      <th>1993-01-29</th>\n",
              "      <td>28.223927</td>\n",
              "      <td>1003200.0</td>\n",
              "    </tr>\n",
              "    <tr>\n",
              "      <th>1993-02-01</th>\n",
              "      <td>28.424666</td>\n",
              "      <td>480500.0</td>\n",
              "    </tr>\n",
              "    <tr>\n",
              "      <th>1993-02-02</th>\n",
              "      <td>28.484856</td>\n",
              "      <td>201300.0</td>\n",
              "    </tr>\n",
              "    <tr>\n",
              "      <th>1993-02-03</th>\n",
              "      <td>28.785997</td>\n",
              "      <td>529400.0</td>\n",
              "    </tr>\n",
              "    <tr>\n",
              "      <th>1993-02-04</th>\n",
              "      <td>28.906440</td>\n",
              "      <td>531500.0</td>\n",
              "    </tr>\n",
              "  </tbody>\n",
              "</table>\n",
              "</div>"
            ],
            "text/plain": [
              "            Adj_Close  Adj_Volume\n",
              "Date                             \n",
              "1993-01-29  28.223927   1003200.0\n",
              "1993-02-01  28.424666    480500.0\n",
              "1993-02-02  28.484856    201300.0\n",
              "1993-02-03  28.785997    529400.0\n",
              "1993-02-04  28.906440    531500.0"
            ]
          },
          "metadata": {
            "tags": []
          },
          "execution_count": 3
        }
      ]
    },
    {
      "cell_type": "code",
      "metadata": {
        "id": "VPomh2Vo6VBv",
        "colab_type": "code",
        "colab": {}
      },
      "source": [
        "lng_df = pd.read_csv(\"https://assets.datacamp.com/production/repositories/2168/\\\n",
        "datasets/b1c089b35aa59a7290964640af811125f74fe3ec/LNG.csv\",\n",
        "parse_dates=['Date'],index_col='Date')"
      ],
      "execution_count": 0,
      "outputs": []
    },
    {
      "cell_type": "code",
      "metadata": {
        "id": "JRrxqqKO6km8",
        "colab_type": "code",
        "colab": {
          "base_uri": "https://localhost:8080/",
          "height": 238
        },
        "outputId": "5948ac66-cd15-459a-cc91-73d9a5fb9214"
      },
      "source": [
        "lng_df.head()"
      ],
      "execution_count": 5,
      "outputs": [
        {
          "output_type": "execute_result",
          "data": {
            "text/html": [
              "<div>\n",
              "<style scoped>\n",
              "    .dataframe tbody tr th:only-of-type {\n",
              "        vertical-align: middle;\n",
              "    }\n",
              "\n",
              "    .dataframe tbody tr th {\n",
              "        vertical-align: top;\n",
              "    }\n",
              "\n",
              "    .dataframe thead th {\n",
              "        text-align: right;\n",
              "    }\n",
              "</style>\n",
              "<table border=\"1\" class=\"dataframe\">\n",
              "  <thead>\n",
              "    <tr style=\"text-align: right;\">\n",
              "      <th></th>\n",
              "      <th>Adj_Close</th>\n",
              "      <th>Adj_Volume</th>\n",
              "    </tr>\n",
              "    <tr>\n",
              "      <th>Date</th>\n",
              "      <th></th>\n",
              "      <th></th>\n",
              "    </tr>\n",
              "  </thead>\n",
              "  <tbody>\n",
              "    <tr>\n",
              "      <th>1994-04-04</th>\n",
              "      <td>72.0</td>\n",
              "      <td>0.0</td>\n",
              "    </tr>\n",
              "    <tr>\n",
              "      <th>1994-04-05</th>\n",
              "      <td>108.0</td>\n",
              "      <td>0.0</td>\n",
              "    </tr>\n",
              "    <tr>\n",
              "      <th>1994-04-06</th>\n",
              "      <td>108.0</td>\n",
              "      <td>0.0</td>\n",
              "    </tr>\n",
              "    <tr>\n",
              "      <th>1994-04-07</th>\n",
              "      <td>108.0</td>\n",
              "      <td>0.0</td>\n",
              "    </tr>\n",
              "    <tr>\n",
              "      <th>1994-04-08</th>\n",
              "      <td>108.0</td>\n",
              "      <td>0.0</td>\n",
              "    </tr>\n",
              "  </tbody>\n",
              "</table>\n",
              "</div>"
            ],
            "text/plain": [
              "            Adj_Close  Adj_Volume\n",
              "Date                             \n",
              "1994-04-04       72.0         0.0\n",
              "1994-04-05      108.0         0.0\n",
              "1994-04-06      108.0         0.0\n",
              "1994-04-07      108.0         0.0\n",
              "1994-04-08      108.0         0.0"
            ]
          },
          "metadata": {
            "tags": []
          },
          "execution_count": 5
        }
      ]
    },
    {
      "cell_type": "markdown",
      "metadata": {
        "id": "ZJU6DfA16t_i",
        "colab_type": "text"
      },
      "source": [
        "We will only keep data for year 2016 and above."
      ]
    },
    {
      "cell_type": "code",
      "metadata": {
        "id": "uZCRcSA46zoz",
        "colab_type": "code",
        "colab": {}
      },
      "source": [
        "lng_df = lng_df['2016':]\n",
        "spy_df = spy_df['2016':]"
      ],
      "execution_count": 0,
      "outputs": []
    },
    {
      "cell_type": "markdown",
      "metadata": {
        "id": "sSGnEN_x61s5",
        "colab_type": "text"
      },
      "source": [
        "Plot the adjusted closing price data."
      ]
    },
    {
      "cell_type": "code",
      "metadata": {
        "id": "Z5x9Dpmv64ig",
        "colab_type": "code",
        "colab": {
          "base_uri": "https://localhost:8080/",
          "height": 293
        },
        "outputId": "a6c927c4-0cdf-4693-932c-f73a3a86759d"
      },
      "source": [
        "spy_df['Adj_Close'].plot(label='SPY', legend=True)\n",
        "lng_df['Adj_Close'].plot(label='LNG', legend=True)\n",
        "plt.title('Cheniere stock vs S&P500 Price data')\n",
        "plt.legend(loc=2);"
      ],
      "execution_count": 7,
      "outputs": [
        {
          "output_type": "display_data",
          "data": {
            "image/png": "[encoded data removed]",
            "text/plain": [
              "<Figure size 432x288 with 1 Axes>"
            ]
          },
          "metadata": {
            "tags": []
          }
        }
      ]
    },
    {
      "cell_type": "markdown",
      "metadata": {
        "id": "xwvhN35y65iA",
        "colab_type": "text"
      },
      "source": [
        "Plotting the percent change data. We will plot the histogram with 50 bins."
      ]
    },
    {
      "cell_type": "code",
      "metadata": {
        "id": "2DVsoa_s7Pgz",
        "colab_type": "code",
        "colab": {
          "base_uri": "https://localhost:8080/",
          "height": 281
        },
        "outputId": "79725b2a-a7d3-4724-98d9-676829308b77"
      },
      "source": [
        "lng_df['Adj_Close'].pct_change().plot.hist(bins = 50)\n",
        "plt.title('Cheniere stock daily returns histogram');"
      ],
      "execution_count": 8,
      "outputs": [
        {
          "output_type": "display_data",
          "data": {
            "image/png": "[encoded data removed]",
            "text/plain": [
              "<Figure size 432x288 with 1 Axes>"
            ]
          },
          "metadata": {
            "tags": []
          }
        }
      ]
    },
    {
      "cell_type": "markdown",
      "metadata": {
        "id": "_o30jfQ37TIy",
        "colab_type": "text"
      },
      "source": [
        "Correlations"
      ]
    },
    {
      "cell_type": "markdown",
      "metadata": {
        "id": "MQUDV99U7QYs",
        "colab_type": "text"
      },
      "source": [
        "Correlations are nice to check out before building machine learning models, because we can see which features correlate to the target most strongly. Pearson's correlation coefficient is often used, which only detects linear relationships. \n",
        "\n",
        "Highly correlated variables have a Pearson correlation coefficient near 1 (positively correlated) or -1 (negatively correlated). A value near 0 means the two variables are not linearly correlated.\n",
        "\n",
        "If we use the same time periods for previous price changes and future price changes, we can see if the stock price is mean-reverting (bounces around) or trend-following (goes up if it has been going up recently)."
      ]
    },
    {
      "cell_type": "markdown",
      "metadata": {
        "id": "EpBxoceW7WPt",
        "colab_type": "text"
      },
      "source": [
        "Create a 5-day percent change of Adj Close, for current day and 5 days in the future."
      ]
    },
    {
      "cell_type": "code",
      "metadata": {
        "id": "aJs4R6JK7Sl7",
        "colab_type": "code",
        "colab": {}
      },
      "source": [
        "lng_df['5d'] = lng_df['Adj_Close'].shift(-5)"
      ],
      "execution_count": 0,
      "outputs": []
    },
    {
      "cell_type": "code",
      "metadata": {
        "id": "bxnJeC8z7YdL",
        "colab_type": "code",
        "colab": {
          "base_uri": "https://localhost:8080/",
          "height": 394
        },
        "outputId": "201ff89d-a3bc-43f9-bb9f-66483eee476a"
      },
      "source": [
        "lng_df.head(10)"
      ],
      "execution_count": 10,
      "outputs": [
        {
          "output_type": "execute_result",
          "data": {
            "text/html": [
              "<div>\n",
              "<style scoped>\n",
              "    .dataframe tbody tr th:only-of-type {\n",
              "        vertical-align: middle;\n",
              "    }\n",
              "\n",
              "    .dataframe tbody tr th {\n",
              "        vertical-align: top;\n",
              "    }\n",
              "\n",
              "    .dataframe thead th {\n",
              "        text-align: right;\n",
              "    }\n",
              "</style>\n",
              "<table border=\"1\" class=\"dataframe\">\n",
              "  <thead>\n",
              "    <tr style=\"text-align: right;\">\n",
              "      <th></th>\n",
              "      <th>Adj_Close</th>\n",
              "      <th>Adj_Volume</th>\n",
              "      <th>5d</th>\n",
              "    </tr>\n",
              "    <tr>\n",
              "      <th>Date</th>\n",
              "      <th></th>\n",
              "      <th></th>\n",
              "      <th></th>\n",
              "    </tr>\n",
              "  </thead>\n",
              "  <tbody>\n",
              "    <tr>\n",
              "      <th>2016-01-04</th>\n",
              "      <td>37.51</td>\n",
              "      <td>2246475.0</td>\n",
              "      <td>33.79</td>\n",
              "    </tr>\n",
              "    <tr>\n",
              "      <th>2016-01-05</th>\n",
              "      <td>38.47</td>\n",
              "      <td>2903163.0</td>\n",
              "      <td>33.47</td>\n",
              "    </tr>\n",
              "    <tr>\n",
              "      <th>2016-01-06</th>\n",
              "      <td>37.06</td>\n",
              "      <td>2098817.0</td>\n",
              "      <td>32.59</td>\n",
              "    </tr>\n",
              "    <tr>\n",
              "      <th>2016-01-07</th>\n",
              "      <td>34.97</td>\n",
              "      <td>3473839.0</td>\n",
              "      <td>32.81</td>\n",
              "    </tr>\n",
              "    <tr>\n",
              "      <th>2016-01-08</th>\n",
              "      <td>35.01</td>\n",
              "      <td>1920189.0</td>\n",
              "      <td>32.00</td>\n",
              "    </tr>\n",
              "    <tr>\n",
              "      <th>2016-01-11</th>\n",
              "      <td>33.79</td>\n",
              "      <td>4837772.0</td>\n",
              "      <td>30.01</td>\n",
              "    </tr>\n",
              "    <tr>\n",
              "      <th>2016-01-12</th>\n",
              "      <td>33.47</td>\n",
              "      <td>4641517.0</td>\n",
              "      <td>28.52</td>\n",
              "    </tr>\n",
              "    <tr>\n",
              "      <th>2016-01-13</th>\n",
              "      <td>32.59</td>\n",
              "      <td>6059485.0</td>\n",
              "      <td>29.13</td>\n",
              "    </tr>\n",
              "    <tr>\n",
              "      <th>2016-01-14</th>\n",
              "      <td>32.81</td>\n",
              "      <td>3657654.0</td>\n",
              "      <td>31.62</td>\n",
              "    </tr>\n",
              "    <tr>\n",
              "      <th>2016-01-15</th>\n",
              "      <td>32.00</td>\n",
              "      <td>3533536.0</td>\n",
              "      <td>29.39</td>\n",
              "    </tr>\n",
              "  </tbody>\n",
              "</table>\n",
              "</div>"
            ],
            "text/plain": [
              "            Adj_Close  Adj_Volume     5d\n",
              "Date                                    \n",
              "2016-01-04      37.51   2246475.0  33.79\n",
              "2016-01-05      38.47   2903163.0  33.47\n",
              "2016-01-06      37.06   2098817.0  32.59\n",
              "2016-01-07      34.97   3473839.0  32.81\n",
              "2016-01-08      35.01   1920189.0  32.00\n",
              "2016-01-11      33.79   4837772.0  30.01\n",
              "2016-01-12      33.47   4641517.0  28.52\n",
              "2016-01-13      32.59   6059485.0  29.13\n",
              "2016-01-14      32.81   3657654.0  31.62\n",
              "2016-01-15      32.00   3533536.0  29.39"
            ]
          },
          "metadata": {
            "tags": []
          },
          "execution_count": 10
        }
      ]
    },
    {
      "cell_type": "code",
      "metadata": {
        "id": "TkDB4Rwv7ZaR",
        "colab_type": "code",
        "colab": {}
      },
      "source": [
        "# Creating a percent change column 5 days into the future.\n",
        "\n",
        "lng_df['5d_future_returns'] = lng_df['5d'].pct_change(5)\n",
        "lng_df['5d_close_pct'] = lng_df['Adj_Close'].pct_change(5)"
      ],
      "execution_count": 0,
      "outputs": []
    },
    {
      "cell_type": "code",
      "metadata": {
        "id": "xQLF54zC7bY8",
        "colab_type": "code",
        "colab": {
          "base_uri": "https://localhost:8080/",
          "height": 394
        },
        "outputId": "89b118b0-2cd6-4626-f38d-be58afe9a4fe"
      },
      "source": [
        "lng_df.head(10)"
      ],
      "execution_count": 12,
      "outputs": [
        {
          "output_type": "execute_result",
          "data": {
            "text/html": [
              "<div>\n",
              "<style scoped>\n",
              "    .dataframe tbody tr th:only-of-type {\n",
              "        vertical-align: middle;\n",
              "    }\n",
              "\n",
              "    .dataframe tbody tr th {\n",
              "        vertical-align: top;\n",
              "    }\n",
              "\n",
              "    .dataframe thead th {\n",
              "        text-align: right;\n",
              "    }\n",
              "</style>\n",
              "<table border=\"1\" class=\"dataframe\">\n",
              "  <thead>\n",
              "    <tr style=\"text-align: right;\">\n",
              "      <th></th>\n",
              "      <th>Adj_Close</th>\n",
              "      <th>Adj_Volume</th>\n",
              "      <th>5d</th>\n",
              "      <th>5d_future_returns</th>\n",
              "      <th>5d_close_pct</th>\n",
              "    </tr>\n",
              "    <tr>\n",
              "      <th>Date</th>\n",
              "      <th></th>\n",
              "      <th></th>\n",
              "      <th></th>\n",
              "      <th></th>\n",
              "      <th></th>\n",
              "    </tr>\n",
              "  </thead>\n",
              "  <tbody>\n",
              "    <tr>\n",
              "      <th>2016-01-04</th>\n",
              "      <td>37.51</td>\n",
              "      <td>2246475.0</td>\n",
              "      <td>33.79</td>\n",
              "      <td>NaN</td>\n",
              "      <td>NaN</td>\n",
              "    </tr>\n",
              "    <tr>\n",
              "      <th>2016-01-05</th>\n",
              "      <td>38.47</td>\n",
              "      <td>2903163.0</td>\n",
              "      <td>33.47</td>\n",
              "      <td>NaN</td>\n",
              "      <td>NaN</td>\n",
              "    </tr>\n",
              "    <tr>\n",
              "      <th>2016-01-06</th>\n",
              "      <td>37.06</td>\n",
              "      <td>2098817.0</td>\n",
              "      <td>32.59</td>\n",
              "      <td>NaN</td>\n",
              "      <td>NaN</td>\n",
              "    </tr>\n",
              "    <tr>\n",
              "      <th>2016-01-07</th>\n",
              "      <td>34.97</td>\n",
              "      <td>3473839.0</td>\n",
              "      <td>32.81</td>\n",
              "      <td>NaN</td>\n",
              "      <td>NaN</td>\n",
              "    </tr>\n",
              "    <tr>\n",
              "      <th>2016-01-08</th>\n",
              "      <td>35.01</td>\n",
              "      <td>1920189.0</td>\n",
              "      <td>32.00</td>\n",
              "      <td>NaN</td>\n",
              "      <td>NaN</td>\n",
              "    </tr>\n",
              "    <tr>\n",
              "      <th>2016-01-11</th>\n",
              "      <td>33.79</td>\n",
              "      <td>4837772.0</td>\n",
              "      <td>30.01</td>\n",
              "      <td>-0.111867</td>\n",
              "      <td>-0.099174</td>\n",
              "    </tr>\n",
              "    <tr>\n",
              "      <th>2016-01-12</th>\n",
              "      <td>33.47</td>\n",
              "      <td>4641517.0</td>\n",
              "      <td>28.52</td>\n",
              "      <td>-0.147894</td>\n",
              "      <td>-0.129971</td>\n",
              "    </tr>\n",
              "    <tr>\n",
              "      <th>2016-01-13</th>\n",
              "      <td>32.59</td>\n",
              "      <td>6059485.0</td>\n",
              "      <td>29.13</td>\n",
              "      <td>-0.106168</td>\n",
              "      <td>-0.120615</td>\n",
              "    </tr>\n",
              "    <tr>\n",
              "      <th>2016-01-14</th>\n",
              "      <td>32.81</td>\n",
              "      <td>3657654.0</td>\n",
              "      <td>31.62</td>\n",
              "      <td>-0.036269</td>\n",
              "      <td>-0.061767</td>\n",
              "    </tr>\n",
              "    <tr>\n",
              "      <th>2016-01-15</th>\n",
              "      <td>32.00</td>\n",
              "      <td>3533536.0</td>\n",
              "      <td>29.39</td>\n",
              "      <td>-0.081562</td>\n",
              "      <td>-0.085975</td>\n",
              "    </tr>\n",
              "  </tbody>\n",
              "</table>\n",
              "</div>"
            ],
            "text/plain": [
              "            Adj_Close  Adj_Volume     5d  5d_future_returns  5d_close_pct\n",
              "Date                                                                     \n",
              "2016-01-04      37.51   2246475.0  33.79                NaN           NaN\n",
              "2016-01-05      38.47   2903163.0  33.47                NaN           NaN\n",
              "2016-01-06      37.06   2098817.0  32.59                NaN           NaN\n",
              "2016-01-07      34.97   3473839.0  32.81                NaN           NaN\n",
              "2016-01-08      35.01   1920189.0  32.00                NaN           NaN\n",
              "2016-01-11      33.79   4837772.0  30.01          -0.111867     -0.099174\n",
              "2016-01-12      33.47   4641517.0  28.52          -0.147894     -0.129971\n",
              "2016-01-13      32.59   6059485.0  29.13          -0.106168     -0.120615\n",
              "2016-01-14      32.81   3657654.0  31.62          -0.036269     -0.061767\n",
              "2016-01-15      32.00   3533536.0  29.39          -0.081562     -0.085975"
            ]
          },
          "metadata": {
            "tags": []
          },
          "execution_count": 12
        }
      ]
    },
    {
      "cell_type": "markdown",
      "metadata": {
        "id": "UaYoV1CJ7cZK",
        "colab_type": "text"
      },
      "source": [
        "Calculate the correlation matrix between the 5d close pecentage changes (current and future)\n"
      ]
    },
    {
      "cell_type": "code",
      "metadata": {
        "id": "7CO_d5yh7en_",
        "colab_type": "code",
        "colab": {}
      },
      "source": [
        "corr = lng_df[['5d_future_returns', '5d_close_pct']].corr()"
      ],
      "execution_count": 0,
      "outputs": []
    },
    {
      "cell_type": "code",
      "metadata": {
        "id": "Rq9G5zS17ft4",
        "colab_type": "code",
        "colab": {
          "base_uri": "https://localhost:8080/",
          "height": 35
        },
        "outputId": "1f8204d2-e27a-4114-a9b4-e2674e96b531"
      },
      "source": [
        "corr.iloc[0][1]"
      ],
      "execution_count": 14,
      "outputs": [
        {
          "output_type": "execute_result",
          "data": {
            "text/plain": [
              "0.04786077952678092"
            ]
          },
          "metadata": {
            "tags": []
          },
          "execution_count": 14
        }
      ]
    },
    {
      "cell_type": "code",
      "metadata": {
        "id": "_BE7Xnjx7gY3",
        "colab_type": "code",
        "colab": {
          "base_uri": "https://localhost:8080/",
          "height": 612
        },
        "outputId": "2e9ada07-4c05-4344-a085-0176385c938a"
      },
      "source": [
        "plt.figure(figsize=(15,10))\n",
        "plt.scatter(lng_df['5d_future_returns'], lng_df['5d_close_pct']);"
      ],
      "execution_count": 15,
      "outputs": [
        {
          "output_type": "display_data",
          "data": {
            "image/png": "[encoded data removed]",
            "text/plain": [
              "<Figure size 1080x720 with 1 Axes>"
            ]
          },
          "metadata": {
            "tags": []
          }
        }
      ]
    },
    {
      "cell_type": "markdown",
      "metadata": {
        "id": "bqj701EA7hdf",
        "colab_type": "text"
      },
      "source": [
        "We can see there doesn't seem to be much correlation between these two results."
      ]
    },
    {
      "cell_type": "markdown",
      "metadata": {
        "id": "zz88enwJ7nPd",
        "colab_type": "text"
      },
      "source": [
        "Next we will create features and labels for our data."
      ]
    },
    {
      "cell_type": "markdown",
      "metadata": {
        "id": "neRX-el-7tsV",
        "colab_type": "text"
      },
      "source": [
        "Creating features and Targets.\n",
        "\n",
        "- Features\n",
        "    - Moving Average\n",
        "    - RSI\n",
        "    \n",
        "- Target\n",
        "    - 5 Day Close percent change"
      ]
    },
    {
      "cell_type": "code",
      "metadata": {
        "id": "npAR7C2d7vnz",
        "colab_type": "code",
        "colab": {}
      },
      "source": [
        "feature_names = ['5d_close_pct']\n",
        "\n",
        "# Creating a Moving Averge\n",
        "# and RSI for 14, 30, 50 and 200 period\n",
        "\n",
        "arr = np.array([14,30,50,200])\n",
        "\n",
        "for n in arr:\n",
        "\n",
        "  lng_df['ma_' + str(n)] = talib.SMA(lng_df['Adj_Close'].values,\n",
        "                                     timeperiod = n)\n",
        "  \n",
        "  lng_df['rsi_' + str(n)] = talib.RSI(lng_df['Adj_Close'].values,\n",
        "                                      timeperiod = n)\n",
        "  \n",
        "  feature_names = feature_names + ['ma_' + str(n),\n",
        "                                   'rsi_' + str(n)]"
      ],
      "execution_count": 0,
      "outputs": []
    },
    {
      "cell_type": "code",
      "metadata": {
        "id": "XSpjSyQe87e7",
        "colab_type": "code",
        "colab": {
          "base_uri": "https://localhost:8080/",
          "height": 35
        },
        "outputId": "66ab9516-81c0-473f-aa8d-954d9d0b36e6"
      },
      "source": [
        "print(feature_names)"
      ],
      "execution_count": 17,
      "outputs": [
        {
          "output_type": "stream",
          "text": [
            "['5d_close_pct', 'ma_14', 'rsi_14', 'ma_30', 'rsi_30', 'ma_50', 'rsi_50', 'ma_200', 'rsi_200']\n"
          ],
          "name": "stdout"
        }
      ]
    },
    {
      "cell_type": "markdown",
      "metadata": {
        "id": "4gsuh8AL89XB",
        "colab_type": "text"
      },
      "source": [
        "We have our labels and features."
      ]
    },
    {
      "cell_type": "markdown",
      "metadata": {
        "id": "ofEGBaMr9C14",
        "colab_type": "text"
      },
      "source": [
        "We need to drop any `NA` values. We can see the `NA` values below."
      ]
    },
    {
      "cell_type": "code",
      "metadata": {
        "id": "8XHKMnT-9I8f",
        "colab_type": "code",
        "colab": {
          "base_uri": "https://localhost:8080/",
          "height": 274
        },
        "outputId": "da040b19-f380-477d-b2cd-8a283a5a2769"
      },
      "source": [
        "lng_df.isna().sum()"
      ],
      "execution_count": 18,
      "outputs": [
        {
          "output_type": "execute_result",
          "data": {
            "text/plain": [
              "Adj_Close              0\n",
              "Adj_Volume             0\n",
              "5d                     5\n",
              "5d_future_returns      5\n",
              "5d_close_pct           5\n",
              "ma_14                 13\n",
              "rsi_14                14\n",
              "ma_30                 29\n",
              "rsi_30                30\n",
              "ma_50                 49\n",
              "rsi_50                50\n",
              "ma_200               199\n",
              "rsi_200              200\n",
              "dtype: int64"
            ]
          },
          "metadata": {
            "tags": []
          },
          "execution_count": 18
        }
      ]
    },
    {
      "cell_type": "code",
      "metadata": {
        "id": "_UAYdnwI9LMm",
        "colab_type": "code",
        "colab": {}
      },
      "source": [
        "lng_df.dropna(inplace=True)"
      ],
      "execution_count": 0,
      "outputs": []
    },
    {
      "cell_type": "markdown",
      "metadata": {
        "id": "zi1T04-Q9gPp",
        "colab_type": "text"
      },
      "source": [
        "We will separate our features and targets."
      ]
    },
    {
      "cell_type": "code",
      "metadata": {
        "id": "Zmuj5fj99VQz",
        "colab_type": "code",
        "colab": {}
      },
      "source": [
        "features = lng_df[feature_names]\n",
        "targets = lng_df['5d_future_returns']"
      ],
      "execution_count": 0,
      "outputs": []
    },
    {
      "cell_type": "markdown",
      "metadata": {
        "id": "db3RjZjZ9eST",
        "colab_type": "text"
      },
      "source": [
        "Create DataFrame from target column and feature columns"
      ]
    },
    {
      "cell_type": "code",
      "metadata": {
        "id": "3nrZzQi99rhG",
        "colab_type": "code",
        "colab": {}
      },
      "source": [
        "feature_and_target_columns = feature_names + ['5d_future_returns']\n",
        "\n",
        "feat_targ_df = lng_df[feature_and_target_columns]"
      ],
      "execution_count": 0,
      "outputs": []
    },
    {
      "cell_type": "code",
      "metadata": {
        "id": "qYwfF9Cb938L",
        "colab_type": "code",
        "colab": {
          "base_uri": "https://localhost:8080/",
          "height": 256
        },
        "outputId": "4015a04e-eb68-44ab-ff30-c34f6f7d3000"
      },
      "source": [
        "corr = feat_targ_df.corr()\n",
        "print(corr)"
      ],
      "execution_count": 22,
      "outputs": [
        {
          "output_type": "stream",
          "text": [
            "                   5d_close_pct     ma_14  ...   rsi_200  5d_future_returns\n",
            "5d_close_pct           1.000000 -0.082642  ...  0.300738          -0.033087\n",
            "ma_14                 -0.082642  1.000000  ...  0.782841          -0.136905\n",
            "rsi_14                 0.687162  0.210005  ...  0.648441          -0.042130\n",
            "ma_30                 -0.117420  0.965293  ...  0.664793          -0.128291\n",
            "rsi_30                 0.533761  0.430826  ...  0.835123          -0.096066\n",
            "ma_50                 -0.127178  0.896181  ...  0.534482          -0.122722\n",
            "rsi_50                 0.446073  0.551553  ...  0.924822          -0.135744\n",
            "ma_200                -0.008986  0.769015  ...  0.368278          -0.001820\n",
            "rsi_200                0.300738  0.782841  ...  1.000000          -0.197180\n",
            "5d_future_returns     -0.033087 -0.136905  ... -0.197180           1.000000\n",
            "\n",
            "[10 rows x 10 columns]\n"
          ],
          "name": "stdout"
        }
      ]
    },
    {
      "cell_type": "code",
      "metadata": {
        "id": "KNrQT0za97X7",
        "colab_type": "code",
        "colab": {
          "base_uri": "https://localhost:8080/",
          "height": 749
        },
        "outputId": "92bba681-40ab-4d89-b887-6dc9f123e1e5"
      },
      "source": [
        "plt.figure(figsize=(15,10))\n",
        "sns.heatmap(corr, annot=True, annot_kws={'size':14})\n",
        "plt.yticks(rotation=0, size = 14); plt.xticks(rotation=90, size = 14) \n",
        "plt.tight_layout()\n",
        "plt.show();"
      ],
      "execution_count": 23,
      "outputs": [
        {
          "output_type": "display_data",
          "data": {
            "image/png": "[encoded data removed]",
            "text/plain": [
              "<Figure size 1080x720 with 2 Axes>"
            ]
          },
          "metadata": {
            "tags": []
          }
        }
      ]
    },
    {
      "cell_type": "markdown",
      "metadata": {
        "id": "-swDD8o4-wj-",
        "colab_type": "text"
      },
      "source": [
        "Create train and test features"
      ]
    },
    {
      "cell_type": "code",
      "metadata": {
        "id": "5BCyX6Ie_kin",
        "colab_type": "code",
        "colab": {}
      },
      "source": [
        "from sklearn.model_selection import train_test_split"
      ],
      "execution_count": 0,
      "outputs": []
    },
    {
      "cell_type": "markdown",
      "metadata": {
        "id": "3J5EHjDaAZEP",
        "colab_type": "text"
      },
      "source": [
        "We will split the data and keep 75% for training and 25% for testing."
      ]
    },
    {
      "cell_type": "code",
      "metadata": {
        "id": "p0c6pa5e_xiQ",
        "colab_type": "code",
        "colab": {}
      },
      "source": [
        "X_train, X_test, y_train, y_test = train_test_split(features, targets, test_size = 0.35)"
      ],
      "execution_count": 0,
      "outputs": []
    },
    {
      "cell_type": "markdown",
      "metadata": {
        "id": "YiEfH40TAlmj",
        "colab_type": "text"
      },
      "source": [
        "We will apply the `RandomForestRegressor`"
      ]
    },
    {
      "cell_type": "code",
      "metadata": {
        "id": "YtMvkBDpAqvs",
        "colab_type": "code",
        "colab": {}
      },
      "source": [
        "from sklearn.ensemble import RandomForestRegressor"
      ],
      "execution_count": 0,
      "outputs": []
    },
    {
      "cell_type": "code",
      "metadata": {
        "id": "xZz6yo_-A8iB",
        "colab_type": "code",
        "colab": {
          "base_uri": "https://localhost:8080/",
          "height": 146
        },
        "outputId": "52380701-5c4c-4a5d-f3eb-2e9f01eadf3f"
      },
      "source": [
        "forest = RandomForestRegressor()\n",
        "forest.fit(X_train, y_train)"
      ],
      "execution_count": 27,
      "outputs": [
        {
          "output_type": "execute_result",
          "data": {
            "text/plain": [
              "RandomForestRegressor(bootstrap=True, ccp_alpha=0.0, criterion='mse',\n",
              "                      max_depth=None, max_features='auto', max_leaf_nodes=None,\n",
              "                      max_samples=None, min_impurity_decrease=0.0,\n",
              "                      min_impurity_split=None, min_samples_leaf=1,\n",
              "                      min_samples_split=2, min_weight_fraction_leaf=0.0,\n",
              "                      n_estimators=100, n_jobs=None, oob_score=False,\n",
              "                      random_state=None, verbose=0, warm_start=False)"
            ]
          },
          "metadata": {
            "tags": []
          },
          "execution_count": 27
        }
      ]
    },
    {
      "cell_type": "code",
      "metadata": {
        "id": "MENwx4I9BIsL",
        "colab_type": "code",
        "colab": {
          "base_uri": "https://localhost:8080/",
          "height": 35
        },
        "outputId": "6ad69b5b-3467-459e-9a32-02d9ec83aba4"
      },
      "source": [
        "print(f\"The Training model score is : {np.round(forest.score(X_train, y_train),2)}\") "
      ],
      "execution_count": 28,
      "outputs": [
        {
          "output_type": "stream",
          "text": [
            "The Training model score is : 0.94\n"
          ],
          "name": "stdout"
        }
      ]
    },
    {
      "cell_type": "code",
      "metadata": {
        "id": "1VoV__ncBRa5",
        "colab_type": "code",
        "colab": {
          "base_uri": "https://localhost:8080/",
          "height": 35
        },
        "outputId": "23d00093-4498-4056-950e-15a9c0e5ebbd"
      },
      "source": [
        "print(f\"The Training model score is : {np.round(forest.score(X_test, y_test),2)}\")"
      ],
      "execution_count": 29,
      "outputs": [
        {
          "output_type": "stream",
          "text": [
            "The Training model score is : 0.67\n"
          ],
          "name": "stdout"
        }
      ]
    },
    {
      "cell_type": "markdown",
      "metadata": {
        "id": "nQOK8UUbBT_x",
        "colab_type": "text"
      },
      "source": [
        "We can see that our test score is way lower than the training score. We might be underfitting the model."
      ]
    },
    {
      "cell_type": "code",
      "metadata": {
        "id": "Gu8oBDNPGOZX",
        "colab_type": "code",
        "colab": {}
      },
      "source": [
        ""
      ],
      "execution_count": 0,
      "outputs": []
    }
  ]
}