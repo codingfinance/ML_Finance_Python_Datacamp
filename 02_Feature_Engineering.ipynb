{
  "nbformat": 4,
  "nbformat_minor": 0,
  "metadata": {
    "colab": {
      "name": "02-Feature Engineering.ipynb",
      "provenance": []
    },
    "kernelspec": {
      "name": "python3",
      "display_name": "Python 3"
    }
  },
  "cells": [
    {
      "cell_type": "code",
      "metadata": {
        "id": "mrsH4JPDIDD8",
        "colab_type": "code",
        "colab": {}
      },
      "source": [
        "import talib\n",
        "import pandas as pd\n",
        "import numpy as np\n",
        "import matplotlib.pyplot as plt\n",
        "import seaborn as sns\n",
        "sns.set_style(\"whitegrid\")"
      ],
      "execution_count": 0,
      "outputs": []
    },
    {
      "cell_type": "code",
      "metadata": {
        "id": "YmGp9RZdKplf",
        "colab_type": "code",
        "colab": {}
      },
      "source": [
        "spy_df = pd.read_csv('https://assets.datacamp.com/production/repositories/\\\n",
        "2168/datasets/0e72705a29abc4ad16fd29acd0304570ea27111e/SPY.csv',\n",
        "parse_dates=['Date'],index_col='Date')\n",
        "\n",
        "lng_df = pd.read_csv(\"https://assets.datacamp.com/production/repositories/2168/\\\n",
        "datasets/b1c089b35aa59a7290964640af811125f74fe3ec/LNG.csv\",\n",
        "parse_dates=['Date'],index_col='Date')\n",
        "\n",
        "lng_df = lng_df['2016':]\n",
        "spy_df = spy_df['2016':]"
      ],
      "execution_count": 0,
      "outputs": []
    },
    {
      "cell_type": "markdown",
      "metadata": {
        "id": "aTCt0XBkMJpO",
        "colab_type": "text"
      },
      "source": [
        "Create features from dates."
      ]
    },
    {
      "cell_type": "code",
      "metadata": {
        "id": "6SZxyYfcMVKO",
        "colab_type": "code",
        "colab": {}
      },
      "source": [
        "date_features = ['day', 'week', 'month', 'year']"
      ],
      "execution_count": 0,
      "outputs": []
    },
    {
      "cell_type": "code",
      "metadata": {
        "id": "kT9q2AsWNsO0",
        "colab_type": "code",
        "colab": {}
      },
      "source": [
        "for i in date_features:\n",
        "\n",
        "  lng_df['feature_' + str(i)] = getattr(lng_df.reset_index()['Date'].dt,i).values\n",
        "\n",
        "  "
      ],
      "execution_count": 0,
      "outputs": []
    },
    {
      "cell_type": "code",
      "metadata": {
        "id": "v7_MvbXLOXHJ",
        "colab_type": "code",
        "colab": {
          "base_uri": "https://localhost:8080/",
          "height": 238
        },
        "outputId": "2c537ca8-1853-4d70-85b2-3460e00c4654"
      },
      "source": [
        "lng_df.head()"
      ],
      "execution_count": 5,
      "outputs": [
        {
          "output_type": "execute_result",
          "data": {
            "text/html": [
              "<div>\n",
              "<style scoped>\n",
              "    .dataframe tbody tr th:only-of-type {\n",
              "        vertical-align: middle;\n",
              "    }\n",
              "\n",
              "    .dataframe tbody tr th {\n",
              "        vertical-align: top;\n",
              "    }\n",
              "\n",
              "    .dataframe thead th {\n",
              "        text-align: right;\n",
              "    }\n",
              "</style>\n",
              "<table border=\"1\" class=\"dataframe\">\n",
              "  <thead>\n",
              "    <tr style=\"text-align: right;\">\n",
              "      <th></th>\n",
              "      <th>Adj_Close</th>\n",
              "      <th>Adj_Volume</th>\n",
              "      <th>feature_day</th>\n",
              "      <th>feature_week</th>\n",
              "      <th>feature_month</th>\n",
              "      <th>feature_year</th>\n",
              "    </tr>\n",
              "    <tr>\n",
              "      <th>Date</th>\n",
              "      <th></th>\n",
              "      <th></th>\n",
              "      <th></th>\n",
              "      <th></th>\n",
              "      <th></th>\n",
              "      <th></th>\n",
              "    </tr>\n",
              "  </thead>\n",
              "  <tbody>\n",
              "    <tr>\n",
              "      <th>2016-01-04</th>\n",
              "      <td>37.51</td>\n",
              "      <td>2246475.0</td>\n",
              "      <td>4</td>\n",
              "      <td>1</td>\n",
              "      <td>1</td>\n",
              "      <td>2016</td>\n",
              "    </tr>\n",
              "    <tr>\n",
              "      <th>2016-01-05</th>\n",
              "      <td>38.47</td>\n",
              "      <td>2903163.0</td>\n",
              "      <td>5</td>\n",
              "      <td>1</td>\n",
              "      <td>1</td>\n",
              "      <td>2016</td>\n",
              "    </tr>\n",
              "    <tr>\n",
              "      <th>2016-01-06</th>\n",
              "      <td>37.06</td>\n",
              "      <td>2098817.0</td>\n",
              "      <td>6</td>\n",
              "      <td>1</td>\n",
              "      <td>1</td>\n",
              "      <td>2016</td>\n",
              "    </tr>\n",
              "    <tr>\n",
              "      <th>2016-01-07</th>\n",
              "      <td>34.97</td>\n",
              "      <td>3473839.0</td>\n",
              "      <td>7</td>\n",
              "      <td>1</td>\n",
              "      <td>1</td>\n",
              "      <td>2016</td>\n",
              "    </tr>\n",
              "    <tr>\n",
              "      <th>2016-01-08</th>\n",
              "      <td>35.01</td>\n",
              "      <td>1920189.0</td>\n",
              "      <td>8</td>\n",
              "      <td>1</td>\n",
              "      <td>1</td>\n",
              "      <td>2016</td>\n",
              "    </tr>\n",
              "  </tbody>\n",
              "</table>\n",
              "</div>"
            ],
            "text/plain": [
              "            Adj_Close  Adj_Volume  ...  feature_month  feature_year\n",
              "Date                               ...                             \n",
              "2016-01-04      37.51   2246475.0  ...              1          2016\n",
              "2016-01-05      38.47   2903163.0  ...              1          2016\n",
              "2016-01-06      37.06   2098817.0  ...              1          2016\n",
              "2016-01-07      34.97   3473839.0  ...              1          2016\n",
              "2016-01-08      35.01   1920189.0  ...              1          2016\n",
              "\n",
              "[5 rows x 6 columns]"
            ]
          },
          "metadata": {
            "tags": []
          },
          "execution_count": 5
        }
      ]
    },
    {
      "cell_type": "markdown",
      "metadata": {
        "id": "ev4CQiYsRGnP",
        "colab_type": "text"
      },
      "source": [
        "Create our target."
      ]
    },
    {
      "cell_type": "code",
      "metadata": {
        "id": "uXt0L4p6RiDK",
        "colab_type": "code",
        "colab": {}
      },
      "source": [
        "lng_df['5d_percent_return'] = lng_df['Adj_Close'].shift(-5).pct_change(5)"
      ],
      "execution_count": 0,
      "outputs": []
    },
    {
      "cell_type": "markdown",
      "metadata": {
        "id": "hr26m4V5RraE",
        "colab_type": "text"
      },
      "source": [
        "`DecisionTreeRegressor`"
      ]
    },
    {
      "cell_type": "code",
      "metadata": {
        "id": "B_m5hjD6SByr",
        "colab_type": "code",
        "colab": {
          "base_uri": "https://localhost:8080/",
          "height": 54
        },
        "outputId": "85680317-da1a-4c9b-b828-9daca2a802ae"
      },
      "source": [
        "from sklearn.model_selection import train_test_split\n",
        "from sklearn.ensemble import RandomForestRegressor\n",
        "\n",
        "lng_df.dropna(inplace=True)\n",
        "\n",
        "X = lng_df.drop(columns=['5d_percent_return'])\n",
        "y = lng_df['5d_percent_return']\n",
        "\n",
        "\n",
        "X_train, X_test, y_train, y_test = train_test_split(X, y, test_size = 0.25)\n",
        "\n",
        "# Create a decision tree regression model with default arguments\n",
        "forest = RandomForestRegressor()\n",
        "\n",
        "# Fit the model to the training features and targets\n",
        "forest.fit(X_train.values, y_train.values)\n",
        "\n",
        "# Check the score on train and test\n",
        "print(forest.score(X_train, y_train))\n",
        "print(forest.score(X_test, y_test))"
      ],
      "execution_count": 7,
      "outputs": [
        {
          "output_type": "stream",
          "text": [
            "0.9259494644276568\n",
            "0.504455580490252\n"
          ],
          "name": "stdout"
        }
      ]
    },
    {
      "cell_type": "code",
      "metadata": {
        "id": "sfgTh_TjUIXn",
        "colab_type": "code",
        "colab": {}
      },
      "source": [
        ""
      ],
      "execution_count": 0,
      "outputs": []
    }
  ]
}